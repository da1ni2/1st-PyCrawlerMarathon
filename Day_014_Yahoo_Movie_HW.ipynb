{
 "cells": [
  {
   "cell_type": "markdown",
   "metadata": {},
   "source": [
    "# YAHOO電影爬蟲練習\n",
    "## 練習爬取電影放映資訊。必須逐步獲取電影的代號、放映地區、放映日期後，再送出查詢給伺服器。"
   ]
  },
  {
   "cell_type": "code",
   "execution_count": 1,
   "metadata": {},
   "outputs": [],
   "source": [
    "import requests\n",
    "import re\n",
    "from bs4 import BeautifulSoup"
   ]
  },
  {
   "cell_type": "markdown",
   "metadata": {},
   "source": [
    "### 先搜尋全部的電影代號(ID)資訊"
   ]
  },
  {
   "cell_type": "code",
   "execution_count": 2,
   "metadata": {},
   "outputs": [
    {
     "name": "stdout",
     "output_type": "stream",
     "text": [
      "9890 葉問4：完結篇\n",
      "10225 STAR WARS : 天行者的崛起\n",
      "10392 復仇母親\n",
      "10387 風暴過後\n",
      "10380 南方車站的聚會\n",
      "10373 祭旗\n",
      "10370 唯你是愛\n",
      "10367 屍控療法\n",
      "10357 黑熊來了\n",
      "10353 唐人街探案2\n",
      "10351 黑計畫\n",
      "10348 HUMAN LOST人間失格\n",
      "10331 假面騎士劇場版ZI-O Over Quartzer\n",
      "10329 巴黎小情聖\n",
      "10324 每個月來訪一次的月經醬\n",
      "10323 8級警戒\n",
      "10297 為你存在的每一天\n",
      "10291 黑色聖誕節\n",
      "10257 熱氣球飛行家\n",
      "10122 大說謊家\n",
      "10364 特約經紀公司\n",
      "10352 一屍到底番外篇：好萊塢大作戰！\n",
      "10340 花生醬獵鷹的願望\n",
      "10339 女孩要革命\n",
      "10336 我的靈魂是愛做的\n",
      "10328 絕世情歌\n",
      "10287 人間失格：太宰治與他的3個女人\n",
      "10279 抓狂博物館\n",
      "10264 呆萌特務\n",
      "10256 去年聖誕節\n",
      "10134 野蠻遊戲：全面晉級\n",
      "10327 夕霧花園\n",
      "10254 懸案密碼前傳：瓶中信\n",
      "10224 布魯克林孤兒\n",
      "10044 暴走曼哈頓\n",
      "10258 鋒迴路轉\n",
      "10097 賽道狂人\n",
      "10358 麂皮：永不滿足\n",
      "10298 82年生的金智英\n",
      "10271 BanG Dream！ FILM LIVE\n",
      "9597 冰雪奇緣2\n",
      "10302 Hello World\n",
      "10281 萬萬沒想到\n",
      "10226 為美好的世界獻上祝福！紅傳說\n",
      "10301 山田孝之的痛苦與榮耀\n",
      "10290 重甲機神：神降臨\n",
      "10130 決戰中途島\n",
      "10098 安眠醫生\n",
      "9621 地久天長\n",
      "10067 魔鬼終結者：黑暗宿命\n",
      "10292 紫羅蘭永恆花園外傳－永遠與自動手記人偶－\n",
      "10240 陽光普照\n",
      "9992 阿達一族\n",
      "10284 狙擊獵殺：救援行動\n",
      "10267 盲人律師\n",
      "10262 黑魔女2\n",
      "10249 電影版 壞傢伙們\n",
      "10205 藍波：最後一滴血\n",
      "10176 屍樂園：髒比雙拼\n",
      "10171 弒婚遊戲\n",
      "10238 108悍將\n",
      "10200 校外打怪教學\n",
      "10190 信用詐欺師JP\n",
      "10155 無間行動\n",
      "10227 星際救援\n",
      "10109 返校\n",
      "10064 唐頓莊園\n",
      "10199 舞孃騙很大\n",
      "10191 夜鶯的哭聲\n",
      "10158 花椒之味\n",
      "10091 天氣之子\n",
      "9894 好小男孩\n",
      "10042 牠 第二章\n",
      "10174 極限逃生\n",
      "10141 你願意嫁給我老公嗎？\n",
      "9807 下半場\n",
      "10082 全面攻佔3：天使救援\n",
      "10119 普羅米亞\n",
      "9920 朵拉與失落的黃金城\n",
      "9116 獅子王\n",
      "9924 玩具總動員4\n",
      "9405 毀滅者\n",
      "9134 庫爾斯克號：深海救援\n",
      "9589 厄夜追緝令\n",
      "9538 苦兒流浪記\n",
      "9394 活個精彩\n",
      "9578 限時好友\n",
      "9568 祝你忌日快樂\n",
      "8553 艾莉塔：戰鬥天使\n",
      "8350 馴龍高手3\n",
      "9150 幸福綠皮書\n",
      "5967 巴黎電幻世代\n",
      "4887 一首搖滾上月球\n",
      "3026 錢不夠用2\n"
     ]
    }
   ],
   "source": [
    "url = 'https://movies.yahoo.com.tw/'\n",
    "r = requests.get(url)\n",
    "soup = BeautifulSoup(r.text , 'html5lib')\n",
    "search = soup.find('select' , attrs = {'name' : 'movie_id'}).find_all('option')\n",
    "for i in range(1,len(search)):\n",
    "    movie_name = search[i]['data-name']\n",
    "    ids = search[i]['value']\n",
    "    print(f'{ids} {movie_name}')"
   ]
  },
  {
   "cell_type": "markdown",
   "metadata": {},
   "source": [
    "### 指定你有興趣的電影其ID，然後查詢其放映地區資訊。"
   ]
  },
  {
   "cell_type": "code",
   "execution_count": 3,
   "metadata": {},
   "outputs": [],
   "source": [
    "movie_id = 10279"
   ]
  },
  {
   "cell_type": "code",
   "execution_count": 4,
   "metadata": {},
   "outputs": [
    {
     "name": "stdout",
     "output_type": "stream",
     "text": [
      "放映地區: 台北市, 代號(area_id): 28\n"
     ]
    }
   ],
   "source": [
    "url = 'https://movies.yahoo.com.tw/api/v1/areas_by_movie_theater'\n",
    "payload = {'movie_id':str(movie_id)}\n",
    "\n",
    "# 模擬一個header\n",
    "headers = {\n",
    "    'authority': 'movies.yahoo.com.tw',\n",
    "    'method': 'GET',\n",
    "    'path': '/api/v1/areas_by_movie_theater?movie_id=' + str(movie_id),\n",
    "    'scheme': 'https',\n",
    "    'accept': 'application/json, text/javascript, */*; q=0.01',\n",
    "    'accept-encoding': 'gzip, deflate, br',\n",
    "    'accept-language': 'zh-TW,zh;q=0.9,en-US;q=0.8,en;q=0.7,zh-CN;q=0.6',\n",
    "    'cookie': 'rxx=9s3x2fws06.1g16irnc&v=1; _ga=GA1.3.2056742944.1551651301; GUC=AQEBAQFczFpdm0IfmwSB&s=AQAAACoo4N5D&g=XMsVBw; BX=4hkdk1decm57t&b=3&s=mr; _ga=GA1.4.2056742944.1551651301; nexagesuid=82843256dd234e8e91aa73f2062f8218; browsed_movie=eyJpdiI6IlJXWWtiSWJaZlNGK2MxQnhscnVUYWc9PSIsInZhbHVlIjoiMXRhMmVHRXRIeUNjc1RBWDJzdGYwbnlIQURmWGsrcjJSMzhkbkcraDNJVUNIZEZsbzU3amlFcVZ1NzlmazJrTGpoMjVrbHk1YmpoRENXaHZTOUw1TmI2ZTZVWHdOejZQZm16RmVuMWlHTTJLaTZLVFZZVkFOMDlTd1wvSGltcytJIiwibWFjIjoiZWQ2ZjA4MmVjZmZlYjlmNjJmYmY2NGMyMDI0Njc0NWViYjVkOWE2NDg0N2RhODMxZjBjZDhiMmJhZTc2MDZhYiJ9; avi=eyJpdiI6Im1NeWFJRlVRWDR1endEcGRGUGJUbVE9PSIsInZhbHVlIjoickRpU3JuUytmcGl6cjF5OW0rNU9iZz09IiwibWFjIjoiY2VmY2NkNzZmM2NhNjY5YzlkOTcyNjE5OGEyMzU0NWYxOTdmMDRkMDY3OWNmMmZjOTMxYjc5MjI5N2Q5NGE5MiJ9; cmp=t=1559391030&j=0; _gid=GA1.4.779543841.1559391031; XSRF-TOKEN=eyJpdiI6IkhpS2hGcDRQaHlmWUJmaHdSS2Q2bHc9PSIsInZhbHVlIjoiOUVoNFk4OHI1UUZmUWRtYXhza0MyWjJSTlhlZ3RnT0VGeVJPN2JuczVRMGRFdWt2OUlsamVKeHRobFwvcHBGM0dhU3VyMXNGTHlsb2dVM2l0U1hpUGxBPT0iLCJtYWMiOiJkZWU4YzJhNjAxMTY3MzE4Y2ExNWIxYmE1ZjE1YWZlZTlhOTcyYjc4M2RlZGY4ZWNjZDYyMTA2NGYwZGViMzc2In0%3D; m_s=eyJpdiI6InpsZHZ2Tk1BZ0dxaHhETml1RjBnUXc9PSIsInZhbHVlIjoiSkNGeHUranRoXC85bDFiaDhySTJqNkJRcWdjWUxjeVRJSHVYZ1wvd2d4bWJZUTUrSHVDM0lUcW5KNHdETFZ4T1lieU81OUhzc1VoUXhZcWk0UDZSQXVFdz09IiwibWFjIjoiYmJkMDJkMDhlODIzMzcyMWY4M2NmYWNjNGVlOWRjMDIwZmVmNzAyMjE3Yzg3ZGY3ODBkZWEzZTI4MTI5ZWNmOSJ9; _gat=1; nexagesd=10',\n",
    "    'dnt': '1',\n",
    "    'mv-authorization': '21835b082e15b91a69b3851eec7b31b82ce82afb',\n",
    "    'referer': 'https://movies.yahoo.com.tw/',\n",
    "    'user-agent': 'Mozilla/5.0 (Windows NT 10.0; Win64; x64) AppleWebKit/537.36 (KHTML, like Gecko) Chrome/74.0.3729.169 Safari/537.36',\n",
    "    'x-requested-with': 'XMLHttpRequest',\n",
    "}\n",
    "    \n",
    "resp = requests.get(url, params=payload, headers=headers)\n",
    "#print(resp.json())  # 若有需要，列印出json原始碼\n",
    "\n",
    "# 這裡回傳的格式是JSON格式的資料，要解析JSON擷取資料\n",
    "for p in resp.json():\n",
    "    print('放映地區: {0}, 代號(area_id): {1}'.format(p['title'], p['area_id']))"
   ]
  },
  {
   "cell_type": "markdown",
   "metadata": {},
   "source": [
    "### 指定你想要觀看的放映地區，查詢有上映電影的場次日期"
   ]
  },
  {
   "cell_type": "code",
   "execution_count": 5,
   "metadata": {},
   "outputs": [],
   "source": [
    "# 指定放映地區\n",
    "area_id = 28"
   ]
  },
  {
   "cell_type": "code",
   "execution_count": 6,
   "metadata": {},
   "outputs": [
    {
     "name": "stdout",
     "output_type": "stream",
     "text": [
      "十二月 19\n",
      "十二月 20\n",
      "十二月 21\n",
      "十二月 22\n",
      "十二月 23\n"
     ]
    }
   ],
   "source": [
    "# 向網站發送請求\n",
    "url = 'https://movies.yahoo.com.tw/movietime_result.html'\n",
    "payload = {'movie_id':str(movie_id), 'area_id':str(area_id)}\n",
    "resp = requests.get(url, params=payload)\n",
    "resp.encoding = 'utf-8'\n",
    "\n",
    "soup = BeautifulSoup(resp.text, 'lxml')\n",
    "movie_date = soup.find_all(\"label\", attrs={'for':re.compile(\"date_[\\d]\")})\n",
    "\n",
    "# 列印播放日期\n",
    "for date in movie_date:\n",
    "    print(\"%s %s\" % (date.p.string, date.h3.string))"
   ]
  },
  {
   "cell_type": "markdown",
   "metadata": {},
   "source": [
    "### 最後指定觀看的日期，查詢並列印出放映的電影院、放映類型(數位、3D、IMAX 3D...)、放映時間等資訊。"
   ]
  },
  {
   "cell_type": "code",
   "execution_count": 35,
   "metadata": {},
   "outputs": [],
   "source": [
    "# 選定要觀看的日期\n",
    "date = \"2019-12-19\""
   ]
  },
  {
   "cell_type": "code",
   "execution_count": 36,
   "metadata": {},
   "outputs": [],
   "source": [
    "# 向網站發送請求，獲取上映的電影院及時間資訊\n",
    "url = \"https://movies.yahoo.com.tw/ajax/pc/get_schedule_by_movie\"\n",
    "payload = {'movie_id':str(movie_id),\n",
    "           'date':date,\n",
    "           'area_id':str(area_id),\n",
    "           'theater_id':'',\n",
    "           'datetime':'',\n",
    "           'movie_type_id':''}\n",
    "\n",
    "resp = requests.get(url, params=payload)\n",
    "#print(resp.json()['view'])  # 若有需要，列印出json原始碼\n",
    "\n"
   ]
  },
  {
   "cell_type": "code",
   "execution_count": 37,
   "metadata": {},
   "outputs": [],
   "source": [
    "soup = BeautifulSoup(resp.json()['view'], 'lxml')\n",
    "html = soup.find_all(\"ul\", attrs={'data-theater_name':re.compile(\".*\")})"
   ]
  },
  {
   "cell_type": "code",
   "execution_count": 56,
   "metadata": {},
   "outputs": [
    {
     "name": "stdout",
     "output_type": "stream",
     "text": [
      "電影院： 光點台北電影主題館\n",
      "放映類型： 數位 \n",
      "2019-12-19 11:00:00\n"
     ]
    }
   ],
   "source": [
    "'''\n",
    "\n",
    "  試著從上一步驟回傳的電影院資料中，擷取電影院名稱、影片放映類型以及時間表\n",
    "  \n",
    "  Your code here.\n",
    "\n",
    "'''\n",
    "\n",
    "for i in html:\n",
    "    print(f'電影院： {i[\"data-theater_name\"]}')\n",
    "    print(f'放映類型： {i.find_all(\"span\" , attrs = {\"class\" : \"tapR\"})[0].string} ')\n",
    "    print(i.find_all('input')[0]['value'])"
   ]
  },
  {
   "cell_type": "code",
   "execution_count": null,
   "metadata": {},
   "outputs": [],
   "source": []
  }
 ],
 "metadata": {
  "kernelspec": {
   "display_name": "Python 3",
   "language": "python",
   "name": "python3"
  },
  "language_info": {
   "codemirror_mode": {
    "name": "ipython",
    "version": 3
   },
   "file_extension": ".py",
   "mimetype": "text/x-python",
   "name": "python",
   "nbconvert_exporter": "python",
   "pygments_lexer": "ipython3",
   "version": "3.7.4"
  }
 },
 "nbformat": 4,
 "nbformat_minor": 2
}
