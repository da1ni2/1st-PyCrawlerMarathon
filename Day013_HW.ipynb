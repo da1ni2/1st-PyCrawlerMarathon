{
 "cells": [
  {
   "cell_type": "markdown",
   "metadata": {},
   "source": [
    "# PTT 網路爬蟲實作練習\n",
    "\n",
    "\n",
    "* 能夠利用 Request + BeatifulSour 撰寫爬蟲，並存放到合適的資料結構\n"
   ]
  },
  {
   "cell_type": "markdown",
   "metadata": {},
   "source": [
    "## 作業目標\n",
    "\n",
    "根據範例 ，完成以下問題：\n",
    "\n",
    "* ① 印出最新文章的「作者」「標題」「時間」\n",
    "* ② 印出第一頁所有文章的「作者」「標題」「時間」\n"
   ]
  },
  {
   "cell_type": "markdown",
   "metadata": {},
   "source": [
    "### ① 印出最新文章的「作者」「標題」「時間」"
   ]
  },
  {
   "cell_type": "code",
   "execution_count": 1,
   "metadata": {
    "scrolled": true
   },
   "outputs": [
    {
     "name": "stdout",
     "output_type": "stream",
     "text": [
      "『 Author 』 : Rambo 『 Title 』 : [Live] 暴龍 @ 公牛 『Time 』 : Tue Dec 10 08:30:11 2019\n",
      "『 Author 』 : Aotearoa 『 Title 』 : [花邊] 小牛官方短片：Mavericks Style 『Time 』 : Tue Dec 10 08:35:08 2019\n",
      "『 Author 』 : Rambo 『 Title 』 : [Live] 活塞 @ 鵜鶘 『Time 』 : Tue Dec 10 08:36:23 2019\n",
      "『 Author 』 : Rambo 『 Title 』 : [Live] 魔術 @ 公鹿 『Time 』 : Tue Dec 10 08:37:33 2019\n",
      "『 Author 』 : Rambo 『 Title 』 : [Live] 灰狼 @ 太陽 『Time 』 : Tue Dec 10 09:30:07 2019\n",
      "『 Author 』 : Rambo 『 Title 』 : [Live] 雷霆 @ 爵士 『Time 』 : Tue Dec 10 09:31:05 2019\n",
      "『 Author 』 : stud0361411 『 Title 』 : [情報] 火箭與馬刺的比賽抗議被否決 『Time 』 : Tue Dec 10 09:47:00 2019\n",
      "『 Author 』 : kairiyu 『 Title 』 : [情報] CBA聯賽的廣廈男籃裁掉半獸人 『Time 』 : Tue Dec 10 10:11:24 2019\n",
      "『 Author 』 : melman87 『 Title 』 : [花邊] 暴龍將為K.Leonard舉辦特殊領戒指儀式 『Time 』 : Tue Dec 10 10:47:37 2019\n",
      "『 Author 』 : Rambo 『 Title 』 : [Live] 灰熊 @ 勇士 『Time 』 : Tue Dec 10 11:00:01 2019\n",
      "『 Author 』 : Yui5 『 Title 』 : [花邊] 甜瓜：KD和Irving沒選擇尼克並不讓我吃驚 『Time 』 : Tue Dec 10 11:15:30 2019\n",
      "『 Author 』 : Vedan 『 Title 』 : [公告] 樂透取消及未來不再開啟樂透 『Time 』 : Mon Jun 24 15:08:02 2019\n",
      "『 Author 』 : qazwsx879345 『 Title 』 : [公告] 版主上任相關事項  『Time 』 : Fri Oct 25 10:44:03 2019\n",
      "『 Author 』 : JerroLi 『 Title 』 : [情報] SEASON Schedule 賽程 December 19–20 『Time 』 : Fri Nov 29 00:46:01 2019\n",
      "『 Author 』 : dragon803 『 Title 』 : [公告]是否禁止basketball top 5文章投票開始  『Time 』 : Sun Dec  8 23:55:00 2019\n"
     ]
    }
   ],
   "source": [
    "'''\n",
    "Your Code\n",
    "'''\n",
    "import requests\n",
    "from bs4 import BeautifulSoup\n",
    "url = 'https://www.ptt.cc/bbs/NBA/index.html'\n",
    "r = requests.get(url)\n",
    "soup = BeautifulSoup(r.text , 'html5lib')\n",
    "for i in soup.find_all(class_= \"r-ent\"):\n",
    "    try:\n",
    "        \n",
    "        title = i.find_all(class_  = \"title\")[0].text.replace(\"\\n\",\"\").replace(\"\\t\",\"\")     \n",
    "        url = 'https://www.ptt.cc'+ i.find_all(class_ = 'title')[0].find_all('a')[0]['href']\n",
    "        r = requests.get(url)\n",
    "        soupp = BeautifulSoup(r.text , 'html5lib')\n",
    "        print(f'『 Author 』 : {i.find_all(class_ = \"author\")[0].text} 『 Title 』 : {title} 『Time 』 : {soupp.find_all(class_ = \"article-meta-value\")[3].text}')\n",
    "    except:\n",
    "        continue\n",
    "        \n",
    "          \n",
    "          \n",
    "          \n",
    "          \n",
    "          \n",
    "          "
   ]
  },
  {
   "cell_type": "code",
   "execution_count": 23,
   "metadata": {},
   "outputs": [
    {
     "name": "stdout",
     "output_type": "stream",
     "text": [
      "『 Author 』 : Yui5 『 Title 』 : [花邊] 甜瓜：KD和Irving沒選擇尼克並不讓我吃驚 『Time 』 : Tue Dec 10 11:15:30 2019\n"
     ]
    }
   ],
   "source": [
    "i = soup.find_all(class_= \"r-ent\")[13]\n",
    "title = i.find_all(class_  = \"title\")[0].text.replace(\"\\n\",\"\").replace(\"\\t\",\"\")     \n",
    "url = 'https://www.ptt.cc'+ i.find_all(class_ = 'title')[0].find_all('a')[0]['href']\n",
    "r = requests.get(url)\n",
    "soupp = BeautifulSoup(r.text , 'html5lib')\n",
    "print(f'『 Author 』 : {i.find_all(class_ = \"author\")[0].text} 『 Title 』 : {title} 『Time 』 : {soupp.find_all(class_ = \"article-meta-value\")[3].text}')"
   ]
  },
  {
   "cell_type": "markdown",
   "metadata": {},
   "source": [
    "### ③ 試著爬爬看其他版的文章"
   ]
  },
  {
   "cell_type": "code",
   "execution_count": null,
   "metadata": {},
   "outputs": [],
   "source": [
    "'''\n",
    "Your Code\n",
    "'''"
   ]
  },
  {
   "cell_type": "code",
   "execution_count": 43,
   "metadata": {},
   "outputs": [
    {
     "name": "stdout",
     "output_type": "stream",
     "text": [
      "『 Author 』 : huice 『 Title 』 : [新聞] 隨父跑遠洋漁船爭吵躲西班牙38年 今思鄉 『Time 』 : Tue Dec 10 12:08:01 2019\n",
      "『 Author 』 : wucrhow 『 Title 』 : Re: [問卦] 讓香港人移民台灣有什麼好處？ 『Time 』 : Tue Dec 10 12:08:36 2019\n",
      "『 Author 』 : Asclepius 『 Title 』 : Re: [新聞] 香港浸大學生會長：民進黨用港人鮮血換選 『Time 』 : Tue Dec 10 12:08:54 2019\n",
      "『 Author 』 : CavendishJr 『 Title 』 : [問卦] 我回過神來在森林裡迷路了QQ 『Time 』 : Tue Dec 10 12:10:34 2019\n",
      "『 Author 』 : sean12345678 『 Title 』 : [問卦] 苗可麗跟郭采潔誰比較正？ 『Time 』 : Tue Dec 10 12:10:54 2019\n",
      "『 Author 』 : bankingpaul 『 Title 』 : [新聞] 揭發長官貪污卻葬送後半生！全台最冤中 『Time 』 : Tue Dec 10 12:10:57 2019\n",
      "『 Author 』 : yor 『 Title 』 : [新聞] 硬要幫李佳芬閨祕爭取12萬月薪 綠控高流 『Time 』 : Tue Dec 10 12:11:24 2019\n",
      "『 Author 』 : inglee 『 Title 』 : [新聞] 改善期將至 台電函中市：請告知「完成改善」具體意涵 『Time 』 : Tue Dec 10 12:11:23 2019\n",
      "『 Author 』 : KKB 『 Title 』 : Re: [新聞] 蔡壁如遭指嚴重敗筆 柯反怨內政部沒行政 『Time 』 : Tue Dec 10 12:11:42 2019\n",
      "『 Author 』 : arsonlolita 『 Title 』 : [公告] 水桶 『Time 』 : Tue Dec 10 12:12:50 2019\n",
      "『 Author 』 : arsonlolita 『 Title 』 : [公告] 八卦板板規(2019.08.21) 『Time 』 : Wed Aug 21 08:33:39 2019\n",
      "『 Author 』 : arsonlolita 『 Title 』 : [公告] 宣導禁止回文政問 『Time 』 : Wed Nov 20 09:14:42 2019\n",
      "『 Author 』 : witty 『 Title 』 : [協尋] 11/20高市大順一路548號順明街行車記錄 『Time 』 : Sun Nov 24 21:28:01 2019\n",
      "『 Author 』 : Amybook 『 Title 』 : 協尋12/6台中市向上路往精科五路行車記錄器 『Time 』 : Sun Dec  8 01:29:53 2019\n",
      "『 Author 』 : Bignana 『 Title 』 : [公告] 一劍無悔，十二月置底閒聊文 『Time 』 : Mon Dec  2 23:13:15 2019\n"
     ]
    }
   ],
   "source": [
    "import requests\n",
    "from bs4 import BeautifulSoup\n",
    "url = 'https://www.ptt.cc/bbs/Gossiping/index.html'\n",
    "r = requests.get(url , cookies = {'over18':'1'})\n",
    "soup = BeautifulSoup(r.text , 'html5lib')\n",
    "for i in soup.find_all(class_= \"r-ent\"):\n",
    "    try:\n",
    "        \n",
    "        title = i.find_all(class_  = \"title\")[0].text.replace(\"\\n\",\"\").replace(\"\\t\",\"\")     \n",
    "        url = 'https://www.ptt.cc'+ i.find_all(class_ = 'title')[0].find_all('a')[0]['href']\n",
    "        r = requests.get(url , cookies = {'over18':'1'})\n",
    "        soupp = BeautifulSoup(r.text , 'html5lib')\n",
    "        print(f'『 Author 』 : {i.find_all(class_ = \"author\")[0].text} 『 Title 』 : {title} 『Time 』 : {soupp.find_all(class_ = \"article-meta-value\")[3].text}')\n",
    "    except:\n",
    "        continue"
   ]
  }
 ],
 "metadata": {
  "kernelspec": {
   "display_name": "Python 3",
   "language": "python",
   "name": "python3"
  },
  "language_info": {
   "codemirror_mode": {
    "name": "ipython",
    "version": 3
   },
   "file_extension": ".py",
   "mimetype": "text/x-python",
   "name": "python",
   "nbconvert_exporter": "python",
   "pygments_lexer": "ipython3",
   "version": "3.7.4"
  }
 },
 "nbformat": 4,
 "nbformat_minor": 2
}
