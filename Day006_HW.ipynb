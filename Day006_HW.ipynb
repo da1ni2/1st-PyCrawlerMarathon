{
 "cells": [
  {
   "cell_type": "markdown",
   "metadata": {},
   "source": [
    "# API 資料串接 - 以 知乎 API 實作範例\n",
    "\n",
    "\n",
    "\n",
    "* 了解知乎 API 使用方式與回傳內容\n",
    "* 撰寫程式存取 API 且添加標頭\n",
    "\n",
    "\n"
   ]
  },
  {
   "cell_type": "markdown",
   "metadata": {},
   "source": [
    "## 作業目標\n",
    "\n",
    "* 根據範例提供的 API ，完成以下問題：\n",
    "\n",
    "    1. 取出知乎問題發問時間\n",
    "    2. 取出第一筆與最後一筆回答的時間\n"
   ]
  },
  {
   "cell_type": "markdown",
   "metadata": {},
   "source": [
    "### 1. 取出知乎問題發問時間"
   ]
  },
  {
   "cell_type": "code",
   "execution_count": 14,
   "metadata": {},
   "outputs": [
    {
     "data": {
      "text/plain": [
       "1486390229"
      ]
     },
     "execution_count": 14,
     "metadata": {},
     "output_type": "execute_result"
    }
   ],
   "source": [
    "# 1. 取出知乎問題發問時間\n",
    "\n",
    "'''\n",
    "Your Code\n",
    "'''\n",
    "import requests,json\n",
    "header = {'user-agent' : 'abc'}\n",
    "r = requests.get('https://www.zhihu.com/api/v4/questions/55493026/answers',headers = header)\n",
    "response = json.loads(r.text)\n",
    "response['data'][0]['question']['created']"
   ]
  },
  {
   "cell_type": "markdown",
   "metadata": {},
   "source": [
    "### 2. 取出第一筆與最後一筆回答的時間"
   ]
  },
  {
   "cell_type": "code",
   "execution_count": 33,
   "metadata": {},
   "outputs": [
    {
     "data": {
      "text/plain": [
       "[1493707703, 1572318426]"
      ]
     },
     "execution_count": 33,
     "metadata": {},
     "output_type": "execute_result"
    }
   ],
   "source": [
    "# 2. 取出第一筆與最後一筆回答的時間\n",
    "\n",
    "'''\n",
    "Your Code\n",
    "'''\n",
    "output = []\n",
    "for i in [1 , len(response['data'])-1]:\n",
    "    output.append(response['data'][i]['created_time'])\n",
    "output"
   ]
  }
 ],
 "metadata": {
  "kernelspec": {
   "display_name": "Python 3",
   "language": "python",
   "name": "python3"
  },
  "language_info": {
   "codemirror_mode": {
    "name": "ipython",
    "version": 3
   },
   "file_extension": ".py",
   "mimetype": "text/x-python",
   "name": "python",
   "nbconvert_exporter": "python",
   "pygments_lexer": "ipython3",
   "version": "3.7.4"
  }
 },
 "nbformat": 4,
 "nbformat_minor": 2
}
